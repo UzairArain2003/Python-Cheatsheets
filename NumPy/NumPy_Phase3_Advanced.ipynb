{
 "cells": [
  {
   "cell_type": "markdown",
   "id": "15e86be9-a89f-49ce-9608-685b0be8f879",
   "metadata": {},
   "source": [
    "## Advance operations with business example"
   ]
  },
  {
   "cell_type": "code",
   "execution_count": 2,
   "id": "c784f283-a252-4712-bbbd-3d961e5669b7",
   "metadata": {},
   "outputs": [],
   "source": [
    "import numpy as np"
   ]
  },
  {
   "cell_type": "code",
   "execution_count": 3,
   "id": "c82cdce3-9bba-4627-bad3-07df2ba71c79",
   "metadata": {},
   "outputs": [
    {
     "name": "stdout",
     "output_type": "stream",
     "text": [
      "========== Zomato Analysis ==========\n",
      "sales data shape:  (5, 5)\n",
      "sample data for first 3 restuarants:\n",
      " [[150000 180000 220000  50000]\n",
      " [120000 140000 160000 190000]\n",
      " [200000 230000 260000 300000]]\n"
     ]
    }
   ],
   "source": [
    "# Data Structure: {restuarant_id, 2021, 2022, 2023, 2024}\n",
    "sales_data =np.array ([\n",
    "#   {id, 2021,  2022,   2023,    2024}\n",
    "    [1, 150000, 180000, 220000, 50000], #Paradise biryani\n",
    "    [2, 120000, 140000, 160000, 190000], #beijin bites \n",
    "    [3, 200000, 230000, 260000, 300000], #pizza hub\n",
    "    [4, 180000, 210000, 240000, 270000], #burger lab\n",
    "    [5, 160000, 185000, 205000, 440000], #chai point\n",
    "    \n",
    "])\n",
    "\n",
    "print(\"=\"*10,\"Zomato Analysis\",\"=\"*10)\n",
    "print(\"sales data shape: \",sales_data.shape)\n",
    "print(\"sample data for first 3 restuarants:\\n\" ,sales_data[:3,1:])"
   ]
  },
  {
   "cell_type": "code",
   "execution_count": 4,
   "id": "8a4845f4-c769-4a26-b6b3-93cacad58e09",
   "metadata": {},
   "outputs": [
    {
     "name": "stdout",
     "output_type": "stream",
     "text": [
      "[     15  810000  945000 1085000 1250000]\n",
      "[ 810000  945000 1085000 1250000]\n"
     ]
    }
   ],
   "source": [
    "#total sales per year\n",
    "\n",
    "print(np.sum(sales_data,axis=0))\n",
    "\"\"\"sum (total top to bottom) i.e coloumn wise one by one like first sum total of \n",
    "year 2021 then 2022 then 2023 then 2024\"\"\"\n",
    "\n",
    "#other method\n",
    "yearly_total = np.sum(sales_data[:,1:], axis=0)\n",
    "print(yearly_total)"
   ]
  },
  {
   "cell_type": "code",
   "execution_count": 5,
   "id": "fbf6257c-8978-4ebc-8398-ce3e056d36ca",
   "metadata": {},
   "outputs": [
    {
     "name": "stdout",
     "output_type": "stream",
     "text": [
      "[ 50000 120000 200000 180000 160000]\n",
      "[120000 140000 160000  50000]\n",
      "[200000 230000 260000 440000]\n",
      "[220000 190000 300000 270000 440000]\n"
     ]
    }
   ],
   "source": [
    "#minimum sales per restuarant?\n",
    "#minimum sales per year ?\n",
    "\n",
    "#maximum sales per year ?\n",
    "#maximum sales per restuarant?\n",
    "\n",
    "#1.A\n",
    "min_sales_per_rt =sales_data[:,1:].min(axis = 1) #checks the data left to right of all restuarant and gives the min value\n",
    "print(min_sales_per_rt)\n",
    "\n",
    "#1.B\n",
    "min_sales_per_year =sales_data[:,1:].min(axis = 0) #checks the data top to bottom that among 5 restuarant which have the minimum sales in each year\n",
    "print(min_sales_per_year)\n",
    "\n",
    "#2.A\n",
    "max_sales_per_year =sales_data[:,1:].max(axis = 0) #checks the data top to bottom and find the max sales among all years \n",
    "print(max_sales_per_year)\n",
    "\n",
    "#2.B\n",
    "\n",
    "max_sales_per_rt =sales_data[:,1:].max(axis = 1) #checks the data left to right k kis restuarant ne kis saal mein subse ziada kamaya tha\n",
    "print(max_sales_per_rt)\n",
    "\n",
    "\n"
   ]
  },
  {
   "cell_type": "code",
   "execution_count": 6,
   "id": "cb33a185-c775-4e6a-a3ad-6f3c5411e250",
   "metadata": {},
   "outputs": [
    {
     "name": "stdout",
     "output_type": "stream",
     "text": [
      "[150000. 152500. 247500. 225000. 247500.]\n",
      "247500.0\n"
     ]
    }
   ],
   "source": [
    "#Average Sales per Restuarat\n",
    "average_sales_per_restuarant = sales_data[:,1:].mean(axis = 1) \n",
    "# calculate restuarant ka 4 saal ka average like left to right thats why we put axis =1\n",
    "print(average_sales_per_restuarant)\n",
    "\n",
    "#average of chai point\n",
    "average_chaipoint = sales_data[4,1:].mean()\n",
    "print(average_chaipoint)\n"
   ]
  },
  {
   "cell_type": "code",
   "execution_count": 7,
   "id": "b5212099-a83d-4cd1-9471-9d5a4d0230cd",
   "metadata": {},
   "outputs": [
    {
     "name": "stdout",
     "output_type": "stream",
     "text": [
      "[[150000 330000 550000 600000]\n",
      " [120000 260000 420000 610000]\n",
      " [200000 430000 690000 990000]\n",
      " [180000 390000 630000 900000]\n",
      " [160000 345000 550000 990000]]\n"
     ]
    }
   ],
   "source": [
    "#cumsum = Cumulative Sum.\n",
    "\n",
    "# Get running total of all restaurant sales from 2021 to 2024 (excluding IDs)\n",
    "cumsum_sales = sales_data[:,1:].cumsum(axis=1)\n",
    "print(cumsum_sales) "
   ]
  },
  {
   "cell_type": "code",
   "execution_count": 11,
   "id": "a4456d73-5994-413b-b008-679780192102",
   "metadata": {},
   "outputs": [
    {
     "name": "stdout",
     "output_type": "stream",
     "text": [
      "[ 7  9 11 13 15]\n",
      "[ 6 14 24 36 50]\n",
      "130\n"
     ]
    }
   ],
   "source": [
    "#vectorize operations\n",
    "\n",
    "vector1 = np.array([1,2,3,4,5])\n",
    "vector2 = np.array([6,7,8,9,10])\n",
    "print(vector1 + vector2)\n",
    "print(vector1 * vector2)\n",
    "print(np.dot(vector1,vector2))"
   ]
  },
  {
   "cell_type": "code",
   "execution_count": 18,
   "id": "9997c5d3-a3bd-4098-a34b-b4255a9eff7c",
   "metadata": {},
   "outputs": [
    {
     "name": "stdout",
     "output_type": "stream",
     "text": [
      "['CHAI' 'COFFEE' 'MILKSHAKE' 'BURGER' 'PIZZA' 'TIKKA']\n",
      "['chai' 'coffee' 'milkshake' 'burger' 'pizza' 'tikka']\n"
     ]
    }
   ],
   "source": [
    "restuarant = np.array([\"chai\",\"coffee\",\"milkshake\",\"burger\",\"pizza\",\"tikka\"])\n",
    "vectorized_upper = (np.vectorize(str.upper))\n",
    "print(vectorized_upper(restuarant))\n",
    "print(restuarant)\n"
   ]
  },
  {
   "cell_type": "markdown",
   "id": "3204f133-34cf-48d6-951c-2252897f3548",
   "metadata": {},
   "source": [
    "### Broadcasting"
   ]
  },
  {
   "cell_type": "code",
   "execution_count": 21,
   "id": "7be45298-3a43-46f6-872a-a7036918dc00",
   "metadata": {},
   "outputs": [
    {
     "name": "stdout",
     "output_type": "stream",
     "text": [
      "[[12500.         15000.         18333.33333333  4166.66666667]\n",
      " [10000.         11666.66666667 13333.33333333 15833.33333333]\n",
      " [16666.66666667 19166.66666667 21666.66666667 25000.        ]\n",
      " [15000.         17500.         20000.         22500.        ]\n",
      " [13333.33333333 15416.66666667 17083.33333333 36666.66666667]]\n"
     ]
    }
   ],
   "source": [
    "monthly_avg = sales_data[:,1:] / 12\n",
    "print(monthly_avg)"
   ]
  },
  {
   "cell_type": "code",
   "execution_count": null,
   "id": "75f823bd-3daa-4a74-9f80-f9f73d13729f",
   "metadata": {},
   "outputs": [],
   "source": []
  }
 ],
 "metadata": {
  "kernelspec": {
   "display_name": "Python 3 (ipykernel)",
   "language": "python",
   "name": "python3"
  },
  "language_info": {
   "codemirror_mode": {
    "name": "ipython",
    "version": 3
   },
   "file_extension": ".py",
   "mimetype": "text/x-python",
   "name": "python",
   "nbconvert_exporter": "python",
   "pygments_lexer": "ipython3",
   "version": "3.12.4"
  }
 },
 "nbformat": 4,
 "nbformat_minor": 5
}
