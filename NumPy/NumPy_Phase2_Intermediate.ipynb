{
 "cells": [
  {
   "cell_type": "markdown",
   "id": "bb8ee2fe-260e-4a72-bba0-bc7bb7f5b368",
   "metadata": {},
   "source": [
    "## NumPy Operations"
   ]
  },
  {
   "cell_type": "code",
   "execution_count": 2,
   "id": "e0a33f34-5a1c-4799-a2e0-d15d6350cb5d",
   "metadata": {},
   "outputs": [],
   "source": [
    "import numpy as np"
   ]
  },
  {
   "cell_type": "code",
   "execution_count": 3,
   "id": "095d6729-cdc3-437b-b94d-33ab4c7f05ee",
   "metadata": {},
   "outputs": [
    {
     "name": "stdout",
     "output_type": "stream",
     "text": [
      "[ 0  1  2  3  4  5  6  7  8  9 10 11]\n",
      "Basic Slicing:  [2 3 4]\n",
      "With Step:  [1 3 5 7]\n",
      "Negative Indexing:  9\n"
     ]
    }
   ],
   "source": [
    "arr = np.arange(12)\n",
    "print(arr)\n",
    "print (\"Basic Slicing: \",arr[2:5])\n",
    "print(\"With Step: \",arr[1:8:2])\n",
    "print(\"Negative Indexing: \",arr[-3])"
   ]
  },
  {
   "cell_type": "code",
   "execution_count": 4,
   "id": "49bbcfaf-7c38-496e-a4dd-2b2c8757857c",
   "metadata": {},
   "outputs": [
    {
     "name": "stdout",
     "output_type": "stream",
     "text": [
      "Specific Element:  5\n",
      "Entire Row:  [4 5 6]\n",
      "Entire Coloumn:  [2 5 8]\n"
     ]
    }
   ],
   "source": [
    "arr_2d = np.array([[1,2,3],\n",
    "                   [4,5,6],\n",
    "                   [7,8,9]])\n",
    "print(\"Specific Element: \", arr_2d[1, 1])\n",
    "print(\"Entire Row: \", arr_2d[1])\n",
    "print(\"Entire Coloumn: \", arr_2d[:, 1])"
   ]
  },
  {
   "cell_type": "markdown",
   "id": "a4009b2c-63a2-4864-8288-06b04904e759",
   "metadata": {},
   "source": [
    "### Sorting"
   ]
  },
  {
   "cell_type": "code",
   "execution_count": 5,
   "id": "a54cc226-a3d7-4cc8-a613-3d02a03aa4e8",
   "metadata": {},
   "outputs": [
    {
     "name": "stdout",
     "output_type": "stream",
     "text": [
      "Sorted Array:  [ 0  1  2  3  4  5  9 11 23 78]\n",
      "Sorted 2DArray column wise:  [[ 0  1]\n",
      " [ 1  3]\n",
      " [ 2 45]]\n"
     ]
    }
   ],
   "source": [
    "Unsorted = np.array([3,5,78,9,1,11,23,2,4,0])\n",
    "print(\"Sorted Array: \",np.sort(Unsorted))\n",
    "\n",
    "unsorted_2d_array = np.array([[2,3],[1,1],[0,45]])\n",
    "print(\"Sorted 2DArray column wise: \",np.sort(unsorted_2d_array, axis=0))"
   ]
  },
  {
   "cell_type": "markdown",
   "id": "22dbac8d-b867-4c56-8c06-46ae05109ee6",
   "metadata": {},
   "source": [
    "###  Filter"
   ]
  },
  {
   "cell_type": "code",
   "execution_count": 6,
   "id": "144f0635-b9d5-4d76-bffc-1ffe04a150c8",
   "metadata": {},
   "outputs": [
    {
     "name": "stdout",
     "output_type": "stream",
     "text": [
      "Even Numbers:  [ 2  4  6  8 10]\n"
     ]
    }
   ],
   "source": [
    "numbers = np.array([1,2,3,4,5,6,7,8,9,10])\n",
    "even_numbers = numbers[numbers % 2 == 0]\n",
    "print(\"Even Numbers: \",even_numbers)"
   ]
  },
  {
   "cell_type": "markdown",
   "id": "f626b2af-47c9-4ab4-a651-52ed5e774038",
   "metadata": {},
   "source": [
    "### Filter with mask"
   ]
  },
  {
   "cell_type": "code",
   "execution_count": 7,
   "id": "75ca5d40-e069-4676-9bf1-f4bdb2748583",
   "metadata": {},
   "outputs": [
    {
     "name": "stdout",
     "output_type": "stream",
     "text": [
      "greater than 5:  [ 6  7  8  9 10]\n",
      "[ 1  2  3  4  5  6  7  8  9 10]\n"
     ]
    }
   ],
   "source": [
    "mask = numbers > 5\n",
    "print (\"greater than 5: \",numbers [mask])\n",
    "print(numbers)"
   ]
  },
  {
   "cell_type": "markdown",
   "id": "15a7ff9b-18c7-4c5b-aded-4d1eb68c72b0",
   "metadata": {},
   "source": [
    "### Fancy Indexing vs np.where()"
   ]
  },
  {
   "cell_type": "code",
   "execution_count": 8,
   "id": "520edaf0-3998-4b8d-9f84-d7495eaab865",
   "metadata": {},
   "outputs": [
    {
     "name": "stdout",
     "output_type": "stream",
     "text": [
      "Indexing:  [1 4 6]\n",
      "(array([5, 6, 7, 8, 9]),)\n",
      "NP Where  [ 6  7  8  9 10]\n"
     ]
    }
   ],
   "source": [
    "indices = [0,3,5]\n",
    "print(\"Indexing: \",numbers[indices])\n",
    "\n",
    "where_result = np.where(numbers > 5)\n",
    "print(where_result)\n",
    "print (\"NP Where \",numbers[where_result])"
   ]
  },
  {
   "cell_type": "code",
   "execution_count": 9,
   "id": "fb0a76db-289e-42e2-aecb-7564cf38c875",
   "metadata": {},
   "outputs": [
    {
     "name": "stdout",
     "output_type": "stream",
     "text": [
      "[ 1  2  3  4  5 12 14 16 18 20]\n",
      "[False False False False False  True  True  True  True  True]\n"
     ]
    }
   ],
   "source": [
    "condition_array = np.where(numbers > 5,numbers * 2, numbers) #agar numbers 5 se bara hoga then woh number 2 se multiply hojayega.\n",
    "print(condition_array)\n",
    "\n",
    "condition_array = np.where(numbers > 5, True , False )\n",
    "print(condition_array)\n"
   ]
  },
  {
   "cell_type": "markdown",
   "id": "ee830ab2-c06c-4d86-be45-707a9991ed6c",
   "metadata": {},
   "source": [
    "### Adding and Removing"
   ]
  },
  {
   "cell_type": "code",
   "execution_count": 10,
   "id": "59edaee7-c5f8-435a-9677-0a16d46fa771",
   "metadata": {},
   "outputs": [
    {
     "name": "stdout",
     "output_type": "stream",
     "text": [
      "[1 2 3 4 5 6]\n"
     ]
    }
   ],
   "source": [
    "arr1 = np.array([1,2,3])\n",
    "arr2 = np.array([4,5,6])\n",
    "\n",
    "combined = np.concatenate((arr1,arr2))\n",
    "print(combined)"
   ]
  },
  {
   "cell_type": "markdown",
   "id": "08ce6888-e0c2-447a-9997-c66aa2473cfe",
   "metadata": {},
   "source": [
    "### Array Compatibility "
   ]
  },
  {
   "cell_type": "code",
   "execution_count": 11,
   "id": "f420e589-24f4-4c96-9bac-43206cbd078f",
   "metadata": {},
   "outputs": [
    {
     "name": "stdout",
     "output_type": "stream",
     "text": [
      "Compatibility:  True\n"
     ]
    }
   ],
   "source": [
    "a = np.array([1,2,3])\n",
    "b = np.array([4,5,6,])\n",
    "c = np.array([7,8,9])\n",
    "\n",
    "print(\"Compatibility: \", a.shape == b.shape)"
   ]
  },
  {
   "cell_type": "code",
   "execution_count": 18,
   "id": "bded9a2d-a996-4b4b-9ab3-6676fe8b6cf7",
   "metadata": {},
   "outputs": [
    {
     "name": "stdout",
     "output_type": "stream",
     "text": [
      "[[1 2]\n",
      " [3 4]]\n",
      "[[1 2]\n",
      " [3 4]\n",
      " [5 6]]\n",
      "[[1 2 7]\n",
      " [3 4 8]]\n",
      "[[1 2]\n",
      " [3 4]]\n"
     ]
    }
   ],
   "source": [
    "original = np.array([[1,2],[3,4]])\n",
    "new_row = np.array([5,6])\n",
    "with_new_row = np.vstack((original,new_row))\n",
    "print(original)\n",
    "print(with_new_row)\n",
    "\n",
    "new_col = np.array([[7],[8]])\n",
    "with_new_col = np.hstack((original,new_col))\n",
    "print(with_new_col)\n",
    "print(original)"
   ]
  },
  {
   "cell_type": "code",
   "execution_count": 24,
   "id": "b5c376e0-4743-487a-b65b-7cdd3621ffb0",
   "metadata": {},
   "outputs": [
    {
     "name": "stdout",
     "output_type": "stream",
     "text": [
      "array after deletion:  [1 2 3 5 6 7]\n"
     ]
    }
   ],
   "source": [
    "arr = np.array([1,2,3,4,5,6,7])\n",
    "deleted = np.delete(arr,3)\n",
    "print(\"array after deletion: \",deleted)\n"
   ]
  },
  {
   "cell_type": "code",
   "execution_count": null,
   "id": "256f06a6-0d71-4610-95c7-e51c47abefd1",
   "metadata": {},
   "outputs": [],
   "source": []
  },
  {
   "cell_type": "code",
   "execution_count": null,
   "id": "6f3bc60a-068b-4b41-9d2d-d7370a43413e",
   "metadata": {},
   "outputs": [],
   "source": []
  }
 ],
 "metadata": {
  "kernelspec": {
   "display_name": "Python 3 (ipykernel)",
   "language": "python",
   "name": "python3"
  },
  "language_info": {
   "codemirror_mode": {
    "name": "ipython",
    "version": 3
   },
   "file_extension": ".py",
   "mimetype": "text/x-python",
   "name": "python",
   "nbconvert_exporter": "python",
   "pygments_lexer": "ipython3",
   "version": "3.12.4"
  }
 },
 "nbformat": 4,
 "nbformat_minor": 5
}
