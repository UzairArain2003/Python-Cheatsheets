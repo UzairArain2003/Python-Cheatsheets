{
 "cells": [
  {
   "cell_type": "markdown",
   "id": "2f9bccfc-59de-41d8-a4e9-16f5977c65b9",
   "metadata": {},
   "source": [
    "# NumPy array and basics"
   ]
  },
  {
   "cell_type": "code",
   "execution_count": 6,
   "id": "7dad9d1f-4e2c-4ae3-8646-c7645fe2438d",
   "metadata": {},
   "outputs": [],
   "source": [
    "import numpy as np\n",
    "import random"
   ]
  },
  {
   "cell_type": "code",
   "execution_count": 3,
   "id": "5d9ff98e-427f-4913-a436-f4855cb6114a",
   "metadata": {},
   "outputs": [
    {
     "name": "stdout",
     "output_type": "stream",
     "text": [
      "1D array: \n",
      " [1 2 3 4 5]\n",
      "2D array: \n",
      " [[1 3 2]\n",
      " [7 5 6]]\n"
     ]
    }
   ],
   "source": [
    "arr_1d = np.array([1,2,3,4,5]) \n",
    "print(\"1D array: \\n\",arr_1d)\n",
    "\n",
    "arr_2d = np.array([[1,3,2],[7,5,6]]) \n",
    "print(\"2D array: \\n\",arr_2d)"
   ]
  },
  {
   "cell_type": "markdown",
   "id": "2b9b7ec1-e82c-4603-835a-b5bca79db820",
   "metadata": {},
   "source": [
    "## Numpy vs list"
   ]
  },
  {
   "cell_type": "code",
   "execution_count": 10,
   "id": "7593716d-367a-43c5-a67a-6c0f67f69152",
   "metadata": {},
   "outputs": [
    {
     "name": "stdout",
     "output_type": "stream",
     "text": [
      "Multiplication : [1, 3, 45, 6, 7, 1, 3, 45, 6, 7]\n",
      "Multiplication : [ 2  6 90 12 14]\n"
     ]
    }
   ],
   "source": [
    "py_list = [1,3,45,6,7]\n",
    "print(\"Multiplication :\",py_list*2)\n",
    "\n",
    "n_array = np.array([1,3,45,6,7]) #it outputs elements wise multiplication\n",
    "print(\"Multiplication :\",n_array*2)"
   ]
  },
  {
   "cell_type": "markdown",
   "id": "d7318316-96e5-4609-9462-3472d201887c",
   "metadata": {},
   "source": [
    "## creating array from scratch"
   ]
  },
  {
   "cell_type": "code",
   "execution_count": 17,
   "id": "b4a40e59-ecbf-4031-ab4d-795eeca819cd",
   "metadata": {},
   "outputs": [
    {
     "name": "stdout",
     "output_type": "stream",
     "text": [
      "Zeros Array:\n",
      " [[0. 0. 0.]\n",
      " [0. 0. 0.]\n",
      " [0. 0. 0.]]\n",
      "Ones Array:\n",
      " [[1. 1. 1.]\n",
      " [1. 1. 1.]\n",
      " [1. 1. 1.]]\n",
      "Full Array:\n",
      " [[6 6 6]\n",
      " [6 6 6]\n",
      " [6 6 6]]\n",
      "Random Array:\n",
      " [[2.50072613e-01 5.29851622e-04 8.83872330e-02 1.16053077e-01]\n",
      " [6.33625923e-01 1.94733192e-01 6.26380423e-01 4.94324143e-01]]\n",
      "Squence Array:\n",
      " [0 3 6 9]\n"
     ]
    }
   ],
   "source": [
    "zeros = np.zeros((3,3))\n",
    "print(\"Zeros Array:\\n\",zeros)\n",
    "\n",
    "ones = np.ones((3,3))\n",
    "print(\"Ones Array:\\n\",ones)\n",
    "\n",
    "full = np.full((3,3),6)\n",
    "print(\"Full Array:\\n\",full)\n",
    "\n",
    "rand = np.random.random((2,4))\n",
    "print(\"Random Array:\\n\",rand)\n",
    "\n",
    "squence = np.arange(0,12,3)\n",
    "print(\"Squence Array:\\n\",squence)"
   ]
  },
  {
   "cell_type": "markdown",
   "id": "7f7adcd1-68ba-426a-a90c-9b926b2d6d01",
   "metadata": {},
   "source": [
    "## Vector,Matrix and Tensor"
   ]
  },
  {
   "cell_type": "code",
   "execution_count": 20,
   "id": "ce279733-9dfc-4cd1-9019-55753aff0703",
   "metadata": {},
   "outputs": [
    {
     "name": "stdout",
     "output_type": "stream",
     "text": [
      "vector: \n",
      " [1 2 3]\n",
      "Matrix: \n",
      " [[1 2 3]\n",
      " [4 5 6]]\n",
      "tensor: \n",
      " [[[1 2]\n",
      "  [2 3]]\n",
      "\n",
      " [[4 5]\n",
      "  [5 7]]]\n"
     ]
    }
   ],
   "source": [
    "vector = np.array([1,2,3])\n",
    "print(\"vector: \\n\",vector)\n",
    "\n",
    "Matrix = np.array([[1,2,3],\n",
    "                  [4,5,6]])\n",
    "print(\"Matrix: \\n\",Matrix)\n",
    "\n",
    "tensor = np.array([[[1,2],[2,3]],\n",
    "                   [[4,5],[5,7]]])\n",
    "print(\"tensor: \\n\",tensor)"
   ]
  },
  {
   "cell_type": "markdown",
   "id": "6df7cf67-8411-4b03-b8a7-2afe5b13d992",
   "metadata": {},
   "source": [
    "## ARRAY properties"
   ]
  },
  {
   "cell_type": "code",
   "execution_count": 25,
   "id": "07ec2c41-1854-4850-a45d-62f694878296",
   "metadata": {},
   "outputs": [
    {
     "name": "stdout",
     "output_type": "stream",
     "text": [
      "Shape: \n",
      " (2, 3)\n",
      "Dimension: \n",
      " 2\n",
      "DataType: \n",
      " int64\n",
      "Size: \n",
      " 6\n"
     ]
    }
   ],
   "source": [
    "arr = np.array([[1,2,2]\n",
    "                ,[3,3,4]])\n",
    "print(\"Shape: \\n\",arr.shape)\n",
    "print(\"Dimension: \\n\",arr.ndim)\n",
    "print(\"DataType: \\n\",arr.dtype)\n",
    "print(\"Size: \\n\",arr.size)"
   ]
  },
  {
   "cell_type": "markdown",
   "id": "0289f989-dd96-4afc-80b4-e37a5091d5ed",
   "metadata": {},
   "source": [
    "### Array Reshape"
   ]
  },
  {
   "cell_type": "code",
   "execution_count": 40,
   "id": "4d6a8340-606d-47c2-b55d-092b66681c37",
   "metadata": {},
   "outputs": [
    {
     "name": "stdout",
     "output_type": "stream",
     "text": [
      "[ 0  1  2  3  4  5  6  7  8  9 10 11]\n",
      "Reshape: \n",
      " [[ 0  1  2  3]\n",
      " [ 4  5  6  7]\n",
      " [ 8  9 10 11]]\n",
      "flatten: \n",
      " [ 0  1  2  3  4  5  6  7  8  9 10 11]\n",
      "Ravel: \n",
      " <built-in method ravel of numpy.ndarray object at 0x00000244BAAF1650>\n",
      "[[ 0  1  2  3]\n",
      " [ 4  5  6  7]\n",
      " [ 8  9 10 11]]\n"
     ]
    }
   ],
   "source": [
    "arr = np.arange(12)\n",
    "print(arr)\n",
    "\n",
    "reshaped = arr.reshape((3,4))\n",
    "print(\"Reshape: \\n\",reshaped)\n",
    "\n",
    "flattend = reshaped.flatten()\n",
    "print(\"flatten: \\n\",flattend)\n",
    "\n",
    "raveled = reshaped.ravel \n",
    "print(\"Ravel: \\n\",ravel)\n",
    "\n",
    "#flatten() returns a copy (safe, no change to original), while ravel() returns a view if possible (faster, may affect original).\n",
    "print (reshaped)"
   ]
  },
  {
   "cell_type": "code",
   "execution_count": null,
   "id": "934b7049-0958-477d-8b06-8c0e5bf177f5",
   "metadata": {},
   "outputs": [],
   "source": []
  }
 ],
 "metadata": {
  "kernelspec": {
   "display_name": "Python 3 (ipykernel)",
   "language": "python",
   "name": "python3"
  },
  "language_info": {
   "codemirror_mode": {
    "name": "ipython",
    "version": 3
   },
   "file_extension": ".py",
   "mimetype": "text/x-python",
   "name": "python",
   "nbconvert_exporter": "python",
   "pygments_lexer": "ipython3",
   "version": "3.12.4"
  }
 },
 "nbformat": 4,
 "nbformat_minor": 5
}
